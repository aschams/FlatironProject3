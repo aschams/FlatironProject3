{
 "cells": [
  {
   "cell_type": "code",
   "execution_count": 1,
   "metadata": {},
   "outputs": [],
   "source": [
    "import numpy as np\n",
    "import matplotlib.pyplot as plt\n",
    "import pandas as pd\n",
    "import seaborn as sns\n",
    "import scipy.stats as stats\n",
    "import as_functions as asf\n",
    "\n",
    "sns.set_context('talk')\n",
    "sns.set_style('darkgrid')\n",
    "NUM_WEEKS = 181\n",
    "np.random.seed(23935879)"
   ]
  },
  {
   "cell_type": "markdown",
   "metadata": {},
   "source": [
    "## Reading From CSV"
   ]
  },
  {
   "cell_type": "code",
   "execution_count": 2,
   "metadata": {},
   "outputs": [
    {
     "name": "stderr",
     "output_type": "stream",
     "text": [
      "/Users/anthonyschams/anaconda/lib/python3.6/site-packages/IPython/core/interactiveshell.py:2785: DtypeWarning: Columns (4) have mixed types. Specify dtype option on import or set low_memory=False.\n",
      "  interactivity=interactivity, compiler=compiler, result=result)\n"
     ]
    }
   ],
   "source": [
    "df = pd.read_csv(\"Crashes_in_DC.csv\")"
   ]
  },
  {
   "cell_type": "code",
   "execution_count": 3,
   "metadata": {},
   "outputs": [],
   "source": [
    "df.REPORTDATE = pd.to_datetime(df.REPORTDATE)\n",
    "df.FROMDATE = pd.to_datetime(df.FROMDATE)\n",
    "df.TODATE = pd.to_datetime(df.TODATE)\n",
    "df[\"report_second\"] = df.REPORTDATE.apply(lambda date: date.second)\n",
    "df[\"report_minute\"] = df.REPORTDATE.apply(lambda date: date.minute)\n",
    "df[\"report_hour\"] = df.REPORTDATE.apply(lambda date: date.hour)\n",
    "df['report_day'] = df.REPORTDATE.apply(lambda date: date.day)\n",
    "df[\"report_month\"] = df.REPORTDATE.apply(lambda date: date.month)\n",
    "df[\"report_year\"] = df.REPORTDATE.apply(lambda date: date.year)\n",
    "df[\"report_day_of_week\"] = df.REPORTDATE.apply(lambda date: date.dayofweek)\n",
    "df[\"quadrant\"] = df.ADDRESS.str.extract(r\" ([NS][WE])\\b\")\n",
    "df[\"ward\"] = df.WARD.str.extract(r\"([1-8])\")"
   ]
  },
  {
   "cell_type": "markdown",
   "metadata": {},
   "source": [
    "## Exploring the Data a bit"
   ]
  },
  {
   "cell_type": "code",
   "execution_count": 4,
   "metadata": {},
   "outputs": [
    {
     "data": {
      "text/plain": [
       "<matplotlib.axes._subplots.AxesSubplot at 0x1a1c85f710>"
      ]
     },
     "execution_count": 4,
     "metadata": {},
     "output_type": "execute_result"
    },
    {
     "data": {
      "image/png": "[encoded data removed]",
      "text/plain": [
       "<Figure size 432x288 with 1 Axes>"
      ]
     },
     "metadata": {
      "needs_background": "light"
     },
     "output_type": "display_data"
    }
   ],
   "source": [
    "df.report_hour.hist(bins=24)"
   ]
  },
  {
   "cell_type": "markdown",
   "metadata": {},
   "source": [
    "An abnormal number of crashes are reported at exactly 5 am. This appears to be the fill value if a crash's time is not properly recorded. We will therefore drop these data."
   ]
  },
  {
   "cell_type": "code",
   "execution_count": 5,
   "metadata": {},
   "outputs": [],
   "source": [
    "df_except_5_oclock = df[~((df.report_hour == 5) & (df.report_minute == 0) & (df.report_second == 0))]"
   ]
  },
  {
   "cell_type": "code",
   "execution_count": 6,
   "metadata": {},
   "outputs": [
    {
     "data": {
      "text/plain": [
       "<matplotlib.axes._subplots.AxesSubplot at 0x1a217b7358>"
      ]
     },
     "execution_count": 6,
     "metadata": {},
     "output_type": "execute_result"
    },
    {
     "data": {
      "image/png": "[encoded data removed]",
      "text/plain": [
       "<Figure size 432x288 with 1 Axes>"
      ]
     },
     "metadata": {
      "needs_background": "light"
     },
     "output_type": "display_data"
    }
   ],
   "source": [
    "df_except_5_oclock.report_hour.hist(bins=24)"
   ]
  },
  {
   "cell_type": "markdown",
   "metadata": {},
   "source": [
    "This is much more reasonable."
   ]
  },
  {
   "cell_type": "code",
   "execution_count": 7,
   "metadata": {},
   "outputs": [
    {
     "data": {
      "text/plain": [
       "2016.0    26548\n",
       "2017.0    26446\n",
       "2018.0    26363\n",
       "2019.0    11926\n",
       "2015.0    10235\n",
       "2012.0     5518\n",
       "2014.0     1582\n",
       "2013.0     1173\n",
       "2011.0      566\n",
       "2009.0      250\n",
       "2010.0      205\n",
       "2008.0       77\n",
       "2006.0       16\n",
       "2005.0       13\n",
       "2007.0       12\n",
       "2000.0       10\n",
       "1998.0        6\n",
       "1990.0        4\n",
       "1989.0        4\n",
       "2002.0        3\n",
       "1997.0        3\n",
       "1992.0        3\n",
       "2003.0        3\n",
       "2001.0        2\n",
       "1996.0        2\n",
       "1991.0        2\n",
       "1999.0        1\n",
       "1995.0        1\n",
       "1994.0        1\n",
       "1993.0        1\n",
       "2004.0        1\n",
       "Name: report_year, dtype: int64"
      ]
     },
     "execution_count": 7,
     "metadata": {},
     "output_type": "execute_result"
    }
   ],
   "source": [
    "df_except_5_oclock.report_year.value_counts()"
   ]
  },
  {
   "cell_type": "markdown",
   "metadata": {},
   "source": [
    "When we remove our unusual 5 am reports, we see that 2016-2019 are the only years that appear to be 'complete.' 2015 has a low number of crashes relative to 2016, so we believe that many of the 2015 reports were recorded with times of 5 am and were dropped. Because of the data on 2015 crashes is so incomplete, we will limir our analysis to the years 2016-2019."
   ]
  },
  {
   "cell_type": "code",
   "execution_count": 8,
   "metadata": {},
   "outputs": [],
   "source": [
    "df2 = df_except_5_oclock[(df_except_5_oclock.report_year > 2015) & (df_except_5_oclock.report_year < 2020)].copy()\n",
    "day_of_week = {0:\"Monday\", 1:\"Tuesday\", 2:\"Wednesday\", 3:\"Thursday\", 4:\"Friday\", 5:\"Saturday\", 6:\"Sunday\"}"
   ]
  },
  {
   "cell_type": "code",
   "execution_count": 9,
   "metadata": {},
   "outputs": [],
   "source": [
    "df2['time_of_day'] = df2.report_hour.apply(asf.get_time_of_day)\n",
    "early_morning = df2[(df2.time_of_day == 'Early_Morning')]\n",
    "rush_hour_morn = df2[df2.time_of_day == 'Rush_Hour_Morning']\n",
    "day = df2[df2.time_of_day == 'Day']\n",
    "rush_hour_evening = df2[df2.time_of_day == 'Rush_Hour_Evening']\n",
    "night = df2[df2.time_of_day == 'Night']"
   ]
  },
  {
   "cell_type": "code",
   "execution_count": 10,
   "metadata": {},
   "outputs": [],
   "source": [
    "x = pd.Series(df2.groupby(['report_day_of_week',\n",
    "                           'report_year', \n",
    "                           'report_month', \n",
    "                           'report_day']).count()['X'])"
   ]
  },
  {
   "cell_type": "code",
   "execution_count": 11,
   "metadata": {},
   "outputs": [],
   "source": [
    "monday = x.xs(0).values\n",
    "tuesday = x.xs(1).values\n",
    "wednesday = x.xs(2).values\n",
    "thursday = x.xs(3).values\n",
    "friday = x.xs(4).values\n",
    "saturday = x.xs(5).values\n",
    "sunday = x.xs(6).values\n",
    "\n",
    "monday_padded = asf.pad_array(monday, NUM_WEEKS)\n",
    "tuesday_padded = asf.pad_array(tuesday, NUM_WEEKS)\n",
    "wednesday_padded = asf.pad_array(wednesday, NUM_WEEKS)\n",
    "thursday_padded = asf.pad_array(thursday, NUM_WEEKS)\n",
    "friday_padded = asf.pad_array(friday, NUM_WEEKS)\n",
    "saturday_padded = asf.pad_array(saturday, NUM_WEEKS)\n",
    "sunday_padded = asf.pad_array(sunday, NUM_WEEKS)"
   ]
  },
  {
   "cell_type": "code",
   "execution_count": 12,
   "metadata": {},
   "outputs": [
    {
     "data": {
      "text/plain": [
       "<matplotlib.legend.Legend at 0x1a20be3160>"
      ]
     },
     "execution_count": 12,
     "metadata": {},
     "output_type": "execute_result"
    },
    {
     "data": {
      "image/png": "[encoded data removed]",
      "text/plain": [
       "<Figure size 432x288 with 1 Axes>"
      ]
     },
     "metadata": {
      "needs_background": "light"
     },
     "output_type": "display_data"
    }
   ],
   "source": [
    "plt.hist(monday, alpha = 0.3, label='Monday')\n",
    "plt.hist(friday, alpha=0.3, label='Friday')\n",
    "plt.xlabel('Number of Crashes 2016-2019')\n",
    "plt.ylabel('Count of Days')\n",
    "plt.title('Number of Crashes: Monday vs. Friday')\n",
    "plt.legend()"
   ]
  },
  {
   "cell_type": "markdown",
   "metadata": {},
   "source": [
    "These two curves look roughly normally distributed, so we will use a t-test to compare their means."
   ]
  },
  {
   "cell_type": "code",
   "execution_count": 13,
   "metadata": {},
   "outputs": [
    {
     "name": "stdout",
     "output_type": "stream",
     "text": [
      "T-test: Number of Crashes - Monday vs. Friday: Ttest_indResult(statistic=-11.595941986328668, pvalue=1.3227792675993172e-26)\n"
     ]
    }
   ],
   "source": [
    "print(f'T-test: Number of Crashes - Monday vs. Friday: {stats.ttest_ind(monday, friday, equal_var=False)}')"
   ]
  },
  {
   "cell_type": "markdown",
   "metadata": {},
   "source": [
    "We see that this test has a very low p-value, so we reject the null hypothesis that the number of crashes on Friday and Monday are the same.\n",
    "\n",
    "## Monday vs. Friday (Time of Day)\n",
    "\n",
    "We would also like to compare how time of day affects the number of crashes on Monday vs. Friday. Perhaps the number of crashes Friday is due to more people going out on Friday nights. We will be looking at commute times between the two days."
   ]
  },
  {
   "cell_type": "code",
   "execution_count": 14,
   "metadata": {},
   "outputs": [],
   "source": [
    "y = pd.Series(df2.groupby(['time_of_day',\n",
    "                           'report_day_of_week',\n",
    "                           'report_year', \n",
    "                           'report_month', \n",
    "                           'report_day']).count()['X'])"
   ]
  },
  {
   "cell_type": "code",
   "execution_count": 15,
   "metadata": {},
   "outputs": [],
   "source": [
    "monday_morn = y.xs('Rush_Hour_Morning').xs(0).values\n",
    "tuesday_morn =  y.xs('Rush_Hour_Morning').xs(1).values\n",
    "wednesday_morn =  y.xs('Rush_Hour_Morning').xs(2).values\n",
    "thursday_morn =  y.xs('Rush_Hour_Morning').xs(3).values\n",
    "friday_morn =  y.xs('Rush_Hour_Morning').xs(4).values\n",
    "saturday_morn =  y.xs('Rush_Hour_Morning').xs(5).values\n",
    "sunday_morn =  y.xs('Rush_Hour_Morning').xs(6).values\n",
    "\n",
    "monday_rh_evening = y.xs('Rush_Hour_evening').xs(0).values\n",
    "tuesday_rh_evening = y.xs('Rush_Hour_evening').xs(1).values\n",
    "wednesday_rh_evening = y.xs('Rush_Hour_evening').xs(2).values\n",
    "thursday_rh_evening = y.xs('Rush_Hour_evening').xs(3).values\n",
    "friday_rh_evening = y.xs('Rush_Hour_evening').xs(4).values\n"
   ]
  },
  {
   "cell_type": "code",
   "execution_count": 16,
   "metadata": {},
   "outputs": [
    {
     "data": {
      "image/png": "[encoded data removed]",
      "text/plain": [
       "<Figure size 432x288 with 1 Axes>"
      ]
     },
     "metadata": {
      "needs_background": "light"
     },
     "output_type": "display_data"
    }
   ],
   "source": [
    "_ = plt.hist(monday_morn, bins=12, alpha=0.3, label=\"Monday\")\n",
    "_ = plt.hist(friday_morn, bins=12, alpha=0.3, label='Friday')\n",
    "_ = plt.xticks(range(1, 13, 1))\n",
    "_ = plt.title(\"Number of Crashes on Monday and Friday Morning\")\n",
    "_ = plt.ylabel('Frequency')\n",
    "_ = plt.xlabel('Number of Crashes')\n",
    "_ = plt.legend()"
   ]
  },
  {
   "cell_type": "markdown",
   "metadata": {},
   "source": [
    "## Permutation Test for Monday Morning vs. Friday Morning\n",
    "\n",
    "Because the distribution of number of crashes on Monday morning is not normally distributed, we will instead use a permutation test. Our null hypothesis is that # of crashes on Monday morning is the same as the number of crashes on Friday morning. (The difference in # of crashes is 0.) Monday and Friday are of specific interest to us because of the differing attitudes towards each day. Monday is the start of the week following a weekend, while Friday is the end of the week, where we expect people to be excited for the weekend. "
   ]
  },
  {
   "cell_type": "code",
   "execution_count": 17,
   "metadata": {},
   "outputs": [],
   "source": [
    "monday_morn_padded = asf.pad_array(monday_morn, NUM_WEEKS)\n",
    "friday_morn_padded = asf.pad_array(friday_morn, NUM_WEEKS)"
   ]
  },
  {
   "cell_type": "code",
   "execution_count": 18,
   "metadata": {},
   "outputs": [
    {
     "data": {
      "text/plain": [
       "0.00042"
      ]
     },
     "execution_count": 18,
     "metadata": {},
     "output_type": "execute_result"
    }
   ],
   "source": [
    "asf.permutation_test(monday_morn_padded, friday_morn_padded, 100000)"
   ]
  },
  {
   "cell_type": "markdown",
   "metadata": {},
   "source": [
    "The associated p-value is small, so we will reject the null hypothesis that the number of crashes in the morning of the two days are the same. This indicates to us that Monday morning has significantly fewer crashes than Friday morning. This could be a result of the people being well rested over the weekend and fatigued at the end of the week, or perhaps people are excited for the weekend and are less careful drivers."
   ]
  },
  {
   "cell_type": "code",
   "execution_count": 19,
   "metadata": {},
   "outputs": [],
   "source": [
    "monday_rh_evening_padded = asf.pad_array(monday_rh_evening, NUM_WEEKS)\n",
    "tuesday_rh_evening_padded = asf.pad_array(tuesday_rh_evening, NUM_WEEKS)\n",
    "wednesday_rh_evening_padded = asf.pad_array(wednesday_rh_evening, NUM_WEEKS)\n",
    "thursday_rh_evening_padded = asf.pad_array(thursday_rh_evening, NUM_WEEKS)\n",
    "friday_rh_evening_padded = asf.pad_array(friday_rh_evening, NUM_WEEKS)"
   ]
  },
  {
   "cell_type": "code",
   "execution_count": 20,
   "metadata": {},
   "outputs": [
    {
     "data": {
      "text/plain": [
       "0.00075"
      ]
     },
     "execution_count": 20,
     "metadata": {},
     "output_type": "execute_result"
    }
   ],
   "source": [
    "asf.permutation_test(monday_rh_evening_padded, friday_rh_evening_padded, 100000)"
   ]
  },
  {
   "cell_type": "markdown",
   "metadata": {},
   "source": [
    "Looking at evening rush hour, we see a similar pattern: Friday has more crashes than Monday. This again could be fatigue at the end of the week, as well as perhaps people's excitement to get home negatively impacts their driving."
   ]
  },
  {
   "cell_type": "code",
   "execution_count": 21,
   "metadata": {
    "scrolled": true
   },
   "outputs": [
    {
     "name": "stdout",
     "output_type": "stream",
     "text": [
      "Permutation Test - Monday vs. Friday Evening: 0.00075\n",
      "Permutation Test - Tuesday vs. Friday Evening: 0.00022\n",
      "Permutation Test - Wednesday vs. Friday Evening: 0.01913\n",
      "Permutation Test - Thursday vs. Friday Evening: 0.01106\n"
     ]
    }
   ],
   "source": [
    "print(f\"Permutation Test - Monday vs. Friday Evening: {asf.permutation_test(monday_rh_evening_padded, friday_rh_evening_padded, 100000)}\")\n",
    "print(f\"Permutation Test - Tuesday vs. Friday Evening: {asf.permutation_test(tuesday_rh_evening_padded, friday_rh_evening_padded, 100000)}\")\n",
    "print(f\"Permutation Test - Wednesday vs. Friday Evening: {asf.permutation_test(wednesday_rh_evening_padded, friday_rh_evening_padded, 100000)}\")\n",
    "print(f\"Permutation Test - Thursday vs. Friday Evening: {asf.permutation_test(thursday_rh_evening_padded, friday_rh_evening_padded, 100000)}\")\n",
    "\n",
    "      \n",
    "      "
   ]
  },
  {
   "cell_type": "markdown",
   "metadata": {},
   "source": [
    "Because we have performed multiple tests, we must include an adjustment to the p-value to be more confident we are not making a type-I error. Because we have made 4 comaparisons, we make a Sidak adjustment to\n",
    "$\\alpha_{new} = 1 - (1-\\alpha_0)^{1/4} = 1 - (0.95)^{1/4} = 0.0127$. \n",
    "At this significance level, it appears that only Wednesday is not significantly different with respect to the number of crashes during evening rush hour. This is interesting to us, as there is no intuitive reason that Wednesday would have as many crashes as Friday. "
   ]
  },
  {
   "cell_type": "markdown",
   "metadata": {},
   "source": [
    "## Weekdays vs. weekends\n",
    "Looking at whether more crashes occur on weekdays or weekends."
   ]
  },
  {
   "cell_type": "code",
   "execution_count": 22,
   "metadata": {},
   "outputs": [],
   "source": [
    "weekend = np.append(saturday_padded, sunday_padded)\n",
    "weekdays = np.append(monday_padded, [tuesday_padded, wednesday_padded, thursday_padded, friday_padded])"
   ]
  },
  {
   "cell_type": "code",
   "execution_count": 23,
   "metadata": {
    "scrolled": true
   },
   "outputs": [
    {
     "data": {
      "text/plain": [
       "0.0"
      ]
     },
     "execution_count": 23,
     "metadata": {},
     "output_type": "execute_result"
    }
   ],
   "source": [
    "asf.permutation_test(weekdays, weekend, 100000)"
   ]
  },
  {
   "cell_type": "code",
   "execution_count": 24,
   "metadata": {},
   "outputs": [
    {
     "data": {
      "text/plain": [
       "0.01372"
      ]
     },
     "execution_count": 24,
     "metadata": {},
     "output_type": "execute_result"
    }
   ],
   "source": [
    "asf.permutation_test(saturday_padded, friday_padded, 100000)"
   ]
  },
  {
   "cell_type": "markdown",
   "metadata": {},
   "source": [
    "## Pedestrian Safety"
   ]
  },
  {
   "cell_type": "code",
   "execution_count": 25,
   "metadata": {},
   "outputs": [],
   "source": [
    "z = df2.groupby(['time_of_day',\n",
    "                 'report_day_of_week',\n",
    "                 'report_year', \n",
    "                 'report_month', \n",
    "                 'report_day']).sum().TOTAL_PEDESTRIANS"
   ]
  },
  {
   "cell_type": "code",
   "execution_count": 26,
   "metadata": {},
   "outputs": [],
   "source": [
    "peds_monday_morn = z.xs('Rush_Hour_Morning').xs(0).values\n",
    "peds_tuesday_morn =  z.xs('Rush_Hour_Morning').xs(1).values\n",
    "peds_wednesday_morn =  z.xs('Rush_Hour_Morning').xs(2).values\n",
    "peds_thursday_morn =  z.xs('Rush_Hour_Morning').xs(3).values\n",
    "peds_friday_morn =  z.xs('Rush_Hour_Morning').xs(4).values\n",
    "peds_saturday_morn =  z.xs('Rush_Hour_Morning').xs(5).values\n",
    "peds_sunday_morn =  z.xs('Rush_Hour_Morning').xs(6).values\n",
    "\n",
    "peds_monday_rh_evening = z.xs('Rush_Hour_evening').xs(0).values\n",
    "peds_tuesday_rh_evening = z.xs('Rush_Hour_evening').xs(1).values\n",
    "peds_wednesday_rh_evening = z.xs('Rush_Hour_evening').xs(2).values\n",
    "peds_thursday_rh_evening = z.xs('Rush_Hour_evening').xs(3).values\n",
    "peds_friday_rh_evening = z.xs('Rush_Hour_evening').xs(4).values"
   ]
  },
  {
   "cell_type": "code",
   "execution_count": 27,
   "metadata": {},
   "outputs": [],
   "source": [
    "peds_morning_commute = np.concatenate((peds_monday_morn,\n",
    "                                       peds_tuesday_morn,\n",
    "                                       peds_wednesday_morn,\n",
    "                                       peds_thursday_morn, \n",
    "                                       peds_friday_morn))\n",
    "\n",
    "peds_evening_commute = np.concatenate((peds_monday_rh_evening, \n",
    "                                  peds_tuesday_rh_evening, \n",
    "                                  peds_wednesday_rh_evening, \n",
    "                                  peds_thursday_rh_evening, \n",
    "                                  peds_friday_rh_evening))\n",
    "\n"
   ]
  },
  {
   "cell_type": "code",
   "execution_count": 28,
   "metadata": {},
   "outputs": [
    {
     "data": {
      "text/plain": [
       "<matplotlib.legend.Legend at 0x1a1dc28ef0>"
      ]
     },
     "execution_count": 28,
     "metadata": {},
     "output_type": "execute_result"
    },
    {
     "data": {
      "image/png": "[encoded data removed]",
      "text/plain": [
       "<Figure size 432x288 with 1 Axes>"
      ]
     },
     "metadata": {
      "needs_background": "light"
     },
     "output_type": "display_data"
    }
   ],
   "source": [
    "plt.hist(peds_morning_commute, bins=12, alpha=0.3, label=\"Morning\")\n",
    "plt.hist(peds_evening_commute, bins=5, alpha=0.3, label='Evening')\n",
    "plt.xlim([0, 5])\n",
    "plt.title(\"Number of Pedestrians involved in Crashes per Day\")\n",
    "plt.xlabel(\"Number of Pedestrians\")\n",
    "plt.ylabel(\"Frequency\")\n",
    "plt.legend()"
   ]
  },
  {
   "cell_type": "code",
   "execution_count": 29,
   "metadata": {
    "scrolled": true
   },
   "outputs": [
    {
     "data": {
      "text/plain": [
       "0.0"
      ]
     },
     "execution_count": 29,
     "metadata": {},
     "output_type": "execute_result"
    }
   ],
   "source": [
    "asf.permutation_test(peds_morning_commute, peds_evening_commute, 100000)"
   ]
  },
  {
   "cell_type": "code",
   "execution_count": null,
   "metadata": {},
   "outputs": [],
   "source": []
  }
 ],
 "metadata": {
  "kernelspec": {
   "display_name": "Python 3",
   "language": "python",
   "name": "python3"
  },
  "language_info": {
   "codemirror_mode": {
    "name": "ipython",
    "version": 3
   },
   "file_extension": ".py",
   "mimetype": "text/x-python",
   "name": "python",
   "nbconvert_exporter": "python",
   "pygments_lexer": "ipython3",
   "version": "3.6.8"
  }
 },
 "nbformat": 4,
 "nbformat_minor": 2
}
