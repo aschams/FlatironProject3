{
 "cells": [
  {
   "cell_type": "code",
   "execution_count": 5,
   "metadata": {},
   "outputs": [],
   "source": [
    "import numpy as np\n",
    "import matplotlib.pyplot as plt\n",
    "import pandas as pd\n",
    "import requests\n",
    "import seaborn as sns"
   ]
  },
  {
   "cell_type": "code",
   "execution_count": 2,
   "metadata": {},
   "outputs": [],
   "source": [
    "urls = [\"https://maps2.dcgis.dc.gov/dcgis/rest/services/DCGIS_DATA/Violations_Moving_2018/MapServer/{}/query?where=1%3D1&outFields=*&outSR=4326&f=json\".format(x) for x in range(12)]"
   ]
  },
  {
   "cell_type": "code",
   "execution_count": 21,
   "metadata": {},
   "outputs": [
    {
     "data": {
      "text/plain": [
       "(1000, 30)"
      ]
     },
     "execution_count": 21,
     "metadata": {},
     "output_type": "execute_result"
    }
   ],
   "source": [
    "req = requests.get(urls[0])\n",
    "data = req.json()['features']\n",
    "raw_df = pd.DataFrame(data)\n",
    "df = raw_df.attributes.apply(pd.Series)\n",
    "df.shape"
   ]
  },
  {
   "cell_type": "code",
   "execution_count": 22,
   "metadata": {},
   "outputs": [
    {
     "data": {
      "text/html": [
       "<div>\n",
       "<style scoped>\n",
       "    .dataframe tbody tr th:only-of-type {\n",
       "        vertical-align: middle;\n",
       "    }\n",
       "\n",
       "    .dataframe tbody tr th {\n",
       "        vertical-align: top;\n",
       "    }\n",
       "\n",
       "    .dataframe thead th {\n",
       "        text-align: right;\n",
       "    }\n",
       "</style>\n",
       "<table border=\"1\" class=\"dataframe\">\n",
       "  <thead>\n",
       "    <tr style=\"text-align: right;\">\n",
       "      <th></th>\n",
       "      <th>OBJECTID</th>\n",
       "      <th>LOCATION</th>\n",
       "      <th>XCOORD</th>\n",
       "      <th>YCOORD</th>\n",
       "      <th>TICKET_NUMBER</th>\n",
       "      <th>ISSUE_DATE</th>\n",
       "      <th>ISSUE_TIME</th>\n",
       "      <th>ISSUING_AGENCY_CODE</th>\n",
       "      <th>ISSUING_AGENCY_NAME</th>\n",
       "      <th>ISSUING_AGENCY_SHORT</th>\n",
       "      <th>...</th>\n",
       "      <th>PENALTY_2</th>\n",
       "      <th>PENALTY_3</th>\n",
       "      <th>PENALTY_4</th>\n",
       "      <th>PENALTY_5</th>\n",
       "      <th>RP_MULT_OWNER_NO</th>\n",
       "      <th>BODY_STYLE</th>\n",
       "      <th>LATITUDE</th>\n",
       "      <th>LONGITUDE</th>\n",
       "      <th>MAR_ID</th>\n",
       "      <th>GIS_LAST_MOD_DTTM</th>\n",
       "    </tr>\n",
       "  </thead>\n",
       "  <tbody>\n",
       "    <tr>\n",
       "      <th>0</th>\n",
       "      <td>101669</td>\n",
       "      <td>3800 JAY ST NE</td>\n",
       "      <td>NaN</td>\n",
       "      <td>NaN</td>\n",
       "      <td>273028792</td>\n",
       "      <td>1514764800000</td>\n",
       "      <td>08:15 AM</td>\n",
       "      <td>6</td>\n",
       "      <td>METROPOLITAN POLICE DPT-DISTRICT 6</td>\n",
       "      <td>MPD-6D</td>\n",
       "      <td>...</td>\n",
       "      <td>None</td>\n",
       "      <td>1.0</td>\n",
       "      <td>None</td>\n",
       "      <td>None</td>\n",
       "      <td>None</td>\n",
       "      <td>4D</td>\n",
       "      <td>NaN</td>\n",
       "      <td>NaN</td>\n",
       "      <td>NaN</td>\n",
       "      <td>1559090842000</td>\n",
       "    </tr>\n",
       "    <tr>\n",
       "      <th>1</th>\n",
       "      <td>112296</td>\n",
       "      <td>700 HARVARD ST NW</td>\n",
       "      <td>397881.28</td>\n",
       "      <td>139901.28</td>\n",
       "      <td>275916130</td>\n",
       "      <td>1514764800000</td>\n",
       "      <td>03:30 PM</td>\n",
       "      <td>21</td>\n",
       "      <td>MPD RESERVE CORPS</td>\n",
       "      <td>MPD-RC</td>\n",
       "      <td>...</td>\n",
       "      <td>None</td>\n",
       "      <td>NaN</td>\n",
       "      <td>None</td>\n",
       "      <td>None</td>\n",
       "      <td>None</td>\n",
       "      <td>None</td>\n",
       "      <td>38.927</td>\n",
       "      <td>-77.024</td>\n",
       "      <td>810066.0</td>\n",
       "      <td>1559090842000</td>\n",
       "    </tr>\n",
       "    <tr>\n",
       "      <th>2</th>\n",
       "      <td>112466</td>\n",
       "      <td>2022 COLUMBIA RD NW</td>\n",
       "      <td>396050.65</td>\n",
       "      <td>138832.15</td>\n",
       "      <td>275946311</td>\n",
       "      <td>1514764800000</td>\n",
       "      <td>01:20 AM</td>\n",
       "      <td>3</td>\n",
       "      <td>METROPOLITAN POLICE DPT-DISTRICT 3</td>\n",
       "      <td>MPD-3D</td>\n",
       "      <td>...</td>\n",
       "      <td>None</td>\n",
       "      <td>NaN</td>\n",
       "      <td>None</td>\n",
       "      <td>None</td>\n",
       "      <td>None</td>\n",
       "      <td>4D</td>\n",
       "      <td>38.917</td>\n",
       "      <td>-77.046</td>\n",
       "      <td>226185.0</td>\n",
       "      <td>1559090842000</td>\n",
       "    </tr>\n",
       "    <tr>\n",
       "      <th>3</th>\n",
       "      <td>114289</td>\n",
       "      <td>200 BLOCK OF K ST NW</td>\n",
       "      <td>NaN</td>\n",
       "      <td>NaN</td>\n",
       "      <td>276024792</td>\n",
       "      <td>1514764800000</td>\n",
       "      <td>06:10 PM</td>\n",
       "      <td>1</td>\n",
       "      <td>METROPOLITAN POLICE DPT-DISTRICT 1</td>\n",
       "      <td>MPD-1D</td>\n",
       "      <td>...</td>\n",
       "      <td>None</td>\n",
       "      <td>NaN</td>\n",
       "      <td>None</td>\n",
       "      <td>None</td>\n",
       "      <td>None</td>\n",
       "      <td>4D</td>\n",
       "      <td>NaN</td>\n",
       "      <td>NaN</td>\n",
       "      <td>NaN</td>\n",
       "      <td>1559090842000</td>\n",
       "    </tr>\n",
       "    <tr>\n",
       "      <th>4</th>\n",
       "      <td>114682</td>\n",
       "      <td>100 H ST NW</td>\n",
       "      <td>398911.90</td>\n",
       "      <td>136927.31</td>\n",
       "      <td>276027334</td>\n",
       "      <td>1514764800000</td>\n",
       "      <td>02:41 PM</td>\n",
       "      <td>1</td>\n",
       "      <td>METROPOLITAN POLICE DPT-DISTRICT 1</td>\n",
       "      <td>MPD-1D</td>\n",
       "      <td>...</td>\n",
       "      <td>None</td>\n",
       "      <td>1.0</td>\n",
       "      <td>None</td>\n",
       "      <td>None</td>\n",
       "      <td>None</td>\n",
       "      <td>4D</td>\n",
       "      <td>38.900</td>\n",
       "      <td>-77.013</td>\n",
       "      <td>807626.0</td>\n",
       "      <td>1559090842000</td>\n",
       "    </tr>\n",
       "  </tbody>\n",
       "</table>\n",
       "<p>5 rows × 30 columns</p>\n",
       "</div>"
      ],
      "text/plain": [
       "   OBJECTID              LOCATION     XCOORD     YCOORD TICKET_NUMBER  \\\n",
       "0    101669        3800 JAY ST NE        NaN        NaN     273028792   \n",
       "1    112296     700 HARVARD ST NW  397881.28  139901.28     275916130   \n",
       "2    112466   2022 COLUMBIA RD NW  396050.65  138832.15     275946311   \n",
       "3    114289  200 BLOCK OF K ST NW        NaN        NaN     276024792   \n",
       "4    114682           100 H ST NW  398911.90  136927.31     276027334   \n",
       "\n",
       "      ISSUE_DATE ISSUE_TIME  ISSUING_AGENCY_CODE  \\\n",
       "0  1514764800000   08:15 AM                    6   \n",
       "1  1514764800000   03:30 PM                   21   \n",
       "2  1514764800000   01:20 AM                    3   \n",
       "3  1514764800000   06:10 PM                    1   \n",
       "4  1514764800000   02:41 PM                    1   \n",
       "\n",
       "                  ISSUING_AGENCY_NAME ISSUING_AGENCY_SHORT  ... PENALTY_2  \\\n",
       "0  METROPOLITAN POLICE DPT-DISTRICT 6               MPD-6D  ...      None   \n",
       "1                   MPD RESERVE CORPS               MPD-RC  ...      None   \n",
       "2  METROPOLITAN POLICE DPT-DISTRICT 3               MPD-3D  ...      None   \n",
       "3  METROPOLITAN POLICE DPT-DISTRICT 1               MPD-1D  ...      None   \n",
       "4  METROPOLITAN POLICE DPT-DISTRICT 1               MPD-1D  ...      None   \n",
       "\n",
       "  PENALTY_3 PENALTY_4 PENALTY_5 RP_MULT_OWNER_NO BODY_STYLE  LATITUDE  \\\n",
       "0       1.0      None      None             None         4D       NaN   \n",
       "1       NaN      None      None             None       None    38.927   \n",
       "2       NaN      None      None             None         4D    38.917   \n",
       "3       NaN      None      None             None         4D       NaN   \n",
       "4       1.0      None      None             None         4D    38.900   \n",
       "\n",
       "   LONGITUDE    MAR_ID  GIS_LAST_MOD_DTTM  \n",
       "0        NaN       NaN      1559090842000  \n",
       "1    -77.024  810066.0      1559090842000  \n",
       "2    -77.046  226185.0      1559090842000  \n",
       "3        NaN       NaN      1559090842000  \n",
       "4    -77.013  807626.0      1559090842000  \n",
       "\n",
       "[5 rows x 30 columns]"
      ]
     },
     "execution_count": 22,
     "metadata": {},
     "output_type": "execute_result"
    }
   ],
   "source": [
    "df.head()"
   ]
  },
  {
   "cell_type": "code",
   "execution_count": 24,
   "metadata": {
    "scrolled": true
   },
   "outputs": [
    {
     "name": "stdout",
     "output_type": "stream",
     "text": [
      "(1000, 1)\n",
      "(1000, 1)\n",
      "(1000, 1)\n",
      "(1000, 1)\n",
      "(1000, 1)\n",
      "(1000, 1)\n",
      "(1000, 1)\n",
      "(1000, 1)\n",
      "(1000, 1)\n",
      "(1000, 1)\n"
     ]
    }
   ],
   "source": [
    "for url in urls[1:11]:\n",
    "    req = requests.get(url)\n",
    "    data = req.json()['features']\n",
    "    raw_df = pd.DataFrame(data)\n",
    "    print(raw_df.shape)\n",
    "    pd.concat([df, raw_df.attributes.apply(pd.Series)], axis=0)"
   ]
  },
  {
   "cell_type": "code",
   "execution_count": 25,
   "metadata": {},
   "outputs": [
    {
     "data": {
      "text/plain": [
       "(1000, 30)"
      ]
     },
     "execution_count": 25,
     "metadata": {},
     "output_type": "execute_result"
    }
   ],
   "source": [
    "df.shape"
   ]
  },
  {
   "cell_type": "code",
   "execution_count": null,
   "metadata": {},
   "outputs": [],
   "source": []
  }
 ],
 "metadata": {
  "kernelspec": {
   "display_name": "Python 3",
   "language": "python",
   "name": "python3"
  },
  "language_info": {
   "codemirror_mode": {
    "name": "ipython",
    "version": 3
   },
   "file_extension": ".py",
   "mimetype": "text/x-python",
   "name": "python",
   "nbconvert_exporter": "python",
   "pygments_lexer": "ipython3",
   "version": "3.7.3"
  }
 },
 "nbformat": 4,
 "nbformat_minor": 2
}
